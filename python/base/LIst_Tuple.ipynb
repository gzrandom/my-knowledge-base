{
 "cells": [
  {
   "cell_type": "markdown",
   "metadata": {},
   "source": [
    "# list 与 tuple\n",
    "\n",
    "## list\n",
    "\n",
    "内置数据类型：列表\n",
    "\n",
    "`list`是一种有序集合，可以随时添加或删除其中的元素\n",
    "\n",
    "`len`：获取`list`元素的个数\n",
    "\n",
    "使用索引号访问列表元素，索引号从`0`开始\n",
    "\n",
    "用`-1`做索引表示最后一个元素。以此类推，`-2`，`-3`，`4`分别表示倒数第二，倒数第三，倒数第四个元素。"
   ]
  },
  {
   "cell_type": "code",
   "execution_count": 16,
   "metadata": {},
   "outputs": [
    {
     "name": "stdout",
     "output_type": "stream",
     "text": [
      "['张三', '李四', '王五']\n",
      "3\n",
      "张三\n",
      "李四\n",
      "王五\n"
     ]
    },
    {
     "ename": "IndexError",
     "evalue": "list index out of range",
     "output_type": "error",
     "traceback": [
      "\u001b[0;31m---------------------------------------------------------------------------\u001b[0m",
      "\u001b[0;31mIndexError\u001b[0m                                Traceback (most recent call last)",
      "\u001b[0;32m<ipython-input-16-f59ab459aa27>\u001b[0m in \u001b[0;36m<module>\u001b[0;34m\u001b[0m\n\u001b[1;32m      5\u001b[0m \u001b[0mprint\u001b[0m\u001b[0;34m(\u001b[0m\u001b[0mclassmate\u001b[0m\u001b[0;34m[\u001b[0m\u001b[0;36m1\u001b[0m\u001b[0;34m]\u001b[0m\u001b[0;34m)\u001b[0m\u001b[0;34m\u001b[0m\u001b[0;34m\u001b[0m\u001b[0m\n\u001b[1;32m      6\u001b[0m \u001b[0mprint\u001b[0m\u001b[0;34m(\u001b[0m\u001b[0mclassmate\u001b[0m\u001b[0;34m[\u001b[0m\u001b[0;36m2\u001b[0m\u001b[0;34m]\u001b[0m\u001b[0;34m)\u001b[0m\u001b[0;34m\u001b[0m\u001b[0;34m\u001b[0m\u001b[0m\n\u001b[0;32m----> 7\u001b[0;31m \u001b[0mprint\u001b[0m\u001b[0;34m(\u001b[0m\u001b[0mclassmate\u001b[0m\u001b[0;34m[\u001b[0m\u001b[0;36m3\u001b[0m\u001b[0;34m]\u001b[0m\u001b[0;34m)\u001b[0m    \u001b[0;31m#下标越界\u001b[0m\u001b[0;34m\u001b[0m\u001b[0;34m\u001b[0m\u001b[0m\n\u001b[0m",
      "\u001b[0;31mIndexError\u001b[0m: list index out of range"
     ]
    }
   ],
   "source": [
    "classmate = ['张三', '李四', '王五']\n",
    "print(classmate)\n",
    "print(len(classmate))    #获取list元素个数\n",
    "print(classmate[0])    #索引号从0开始\n",
    "print(classmate[1])\n",
    "print(classmate[2])\n",
    "print(classmate[3])    #下标越界\n"
   ]
  },
  {
   "cell_type": "code",
   "execution_count": null,
   "metadata": {},
   "outputs": [],
   "source": [
    "print(classmate[-1])    #-1直接获取最后的元素\n",
    "print(classmate[-2])    #倒数第二个元素\n",
    "print(classmate[-3])\n",
    "print(classmate[-4])    #下标越界"
   ]
  },
  {
   "cell_type": "markdown",
   "metadata": {},
   "source": [
    "append()：追加元素到list末尾\n",
    "\n",
    "insert()：把元素插入到指定位置\n",
    "\n",
    "pop()：删除末尾元素\n",
    "\n",
    "pop(i)：删除指定元素，i为索引号"
   ]
  },
  {
   "cell_type": "code",
   "execution_count": 17,
   "metadata": {},
   "outputs": [
    {
     "name": "stdout",
     "output_type": "stream",
     "text": [
      "['张三', '李四', '王五', '马六']\n",
      "['张三', '陈二', '李四', '王五', '马六']\n",
      "['张三', '陈二', '李四', '王五']\n",
      "['张三', '陈二', '王五']\n"
     ]
    }
   ],
   "source": [
    "classmate.append('马六')\n",
    "print(classmate)\n",
    "classmate.insert(1, '陈二')\n",
    "print(classmate)\n",
    "classmate.pop()\n",
    "print(classmate)\n",
    "classmate.pop(2)\n",
    "print(classmate)"
   ]
  },
  {
   "cell_type": "code",
   "execution_count": null,
   "metadata": {},
   "outputs": [],
   "source": []
  }
 ],
 "metadata": {
  "kernelspec": {
   "display_name": "Python 3",
   "language": "python",
   "name": "python3"
  },
  "language_info": {
   "codemirror_mode": {
    "name": "ipython",
    "version": 3
   },
   "file_extension": ".py",
   "mimetype": "text/x-python",
   "name": "python",
   "nbconvert_exporter": "python",
   "pygments_lexer": "ipython3",
   "version": "3.7.1"
  }
 },
 "nbformat": 4,
 "nbformat_minor": 2
}
